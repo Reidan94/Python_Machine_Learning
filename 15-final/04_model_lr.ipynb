{
 "cells": [
  {
   "cell_type": "code",
   "execution_count": 1,
   "metadata": {
    "collapsed": false
   },
   "outputs": [],
   "source": [
    "import pandas\n",
    "import helpers\n",
    "import numpy as np\n",
    "import time\n",
    "import datetime\n",
    "import matplotlib.pyplot as plt\n",
    "from sklearn.cross_validation import KFold, cross_val_score, train_test_split\n",
    "from sklearn.metrics import roc_auc_score\n",
    "from sklearn.linear_model import LogisticRegression\n",
    "from sklearn.preprocessing import StandardScaler\n",
    "\n",
    "%matplotlib inline"
   ]
  },
  {
   "cell_type": "markdown",
   "metadata": {},
   "source": [
    "# Подход 2: логистическая регрессия"
   ]
  },
  {
   "cell_type": "code",
   "execution_count": 2,
   "metadata": {
    "collapsed": true
   },
   "outputs": [],
   "source": [
    "X, y, X_kaggle = helpers.get_clean_data()\n",
    "scaler = StandardScaler()\n",
    "X = scaler.fit_transform(X)\n",
    "\n",
    "kf = KFold(y.size, n_folds=5, shuffle=True, random_state=42)"
   ]
  },
  {
   "cell_type": "markdown",
   "metadata": {},
   "source": [
    "# Подбираем оптимальный параметр регуляризации (C)"
   ]
  },
  {
   "cell_type": "code",
   "execution_count": 3,
   "metadata": {
    "collapsed": false
   },
   "outputs": [],
   "source": [
    "def plot_C_scores(C_pow_range, scores):\n",
    "    plt.plot(C_pow_range, scores)\n",
    "    plt.xlabel('log(C)')\n",
    "    plt.ylabel('score')\n",
    "    plt.show()\n",
    "\n",
    "def test_model_C(X, y, C):\n",
    "    print 'C =', str(C)\n",
    "    model = LogisticRegression(C=C, random_state=42, n_jobs=-1)\n",
    "    return cross_val_score(model, X, y, cv=kf, scoring='roc_auc', n_jobs=-1)\n",
    "    \n",
    "def test_model(X, y):\n",
    "    scores = []\n",
    "    C_pow_range = range(-5, 6)\n",
    "    C_range = [10.0 ** i for i in C_pow_range]\n",
    "    for C in C_range:\n",
    "        start_time = datetime.datetime.now()\n",
    "        model_scores = test_model_C(X, y, C)\n",
    "        print model_scores\n",
    "        print 'Time elapsed:', datetime.datetime.now() - start_time       \n",
    "        scores.append(np.mean(model_scores))\n",
    "\n",
    "    plot_C_scores(C_pow_range, scores)\n",
    "    \n",
    "    max_score = max(scores)\n",
    "    max_score_index = scores.index(max_score)\n",
    "    return C_range[max_score_index], max_score\n",
    "    "
   ]
  },
  {
   "cell_type": "code",
   "execution_count": 4,
   "metadata": {
    "collapsed": false
   },
   "outputs": [
    {
     "name": "stdout",
     "output_type": "stream",
     "text": [
      "C = 1e-05\n",
      "[ 0.69315319  0.69481539  0.69571378  0.6951316   0.69699446]\n",
      "Time elapsed: 0:00:02.943402\n",
      "C = 0.0001\n",
      "[ 0.70956687  0.71039474  0.71170335  0.71176083  0.71336295]\n",
      "Time elapsed: 0:00:04.427154\n",
      "C = 0.001\n",
      "[ 0.71449542  0.71577214  0.71625974  0.71697302  0.71831737]\n",
      "Time elapsed: 0:00:08.015861\n",
      "C = 0.01\n",
      "[ 0.71464599  0.71617915  0.71624749  0.71735041  0.71832832]\n",
      "Time elapsed: 0:00:10.132491\n",
      "C = 0.1\n",
      "[ 0.71462192  0.7161748   0.71619187  0.71737597  0.7182712 ]\n",
      "Time elapsed: 0:00:11.127989\n",
      "C = 1.0\n",
      "[ 0.71461815  0.71617187  0.71618338  0.71737622  0.71826341]\n",
      "Time elapsed: 0:00:11.232425\n",
      "C = 10.0\n",
      "[ 0.71461695  0.71617179  0.71618281  0.71737669  0.7182632 ]\n",
      "Time elapsed: 0:00:11.254562\n",
      "C = 100.0\n",
      "[ 0.71461692  0.71617206  0.7161825   0.71737655  0.71826345]\n",
      "Time elapsed: 0:00:11.253753\n",
      "C = 1000.0\n",
      "[ 0.71461694  0.71617214  0.7161825   0.71737659  0.71826346]\n",
      "Time elapsed: 0:00:11.454127\n",
      "C = 10000.0\n",
      "[ 0.71461693  0.71617214  0.71618252  0.7173766   0.71826345]\n",
      "Time elapsed: 0:00:11.752067\n",
      "C = 100000.0\n",
      "[ 0.71461693  0.71617214  0.71618252  0.7173766   0.71826345]\n",
      "Time elapsed: 0:00:11.329263\n"
     ]
    },
    {
     "data": {
      "image/png": "[encoded data removed]",
      "text/plain": [
       "<matplotlib.figure.Figure at 0x7fec00e83190>"
      ]
     },
     "metadata": {},
     "output_type": "display_data"
    }
   ],
   "source": [
    "C, score = test_model(X, y)"
   ]
  },
  {
   "cell_type": "code",
   "execution_count": 5,
   "metadata": {
    "collapsed": false
   },
   "outputs": [
    {
     "name": "stdout",
     "output_type": "stream",
     "text": [
      "0.01\n",
      "0.716550270785\n"
     ]
    }
   ],
   "source": [
    "print C\n",
    "print score"
   ]
  },
  {
   "cell_type": "markdown",
   "metadata": {},
   "source": [
    "Наилучшее значение показателя AUC-ROC достигается при C = 0.01 и равно 0.71. Это сравнимо с градиентным бустингом по 250 деревьям, при этом логистическая регрессия работает заметно быстрее."
   ]
  },
  {
   "cell_type": "markdown",
   "metadata": {},
   "source": [
    "# Удаление категориальных признаков"
   ]
  },
  {
   "cell_type": "code",
   "execution_count": 6,
   "metadata": {
    "collapsed": true
   },
   "outputs": [],
   "source": [
    "X, y, X_kaggle = helpers.get_clean_data('clean_category')\n",
    "scaler = StandardScaler()\n",
    "X = scaler.fit_transform(X)\n",
    "\n",
    "kf = KFold(y.size, n_folds=5, shuffle=True, random_state=42)"
   ]
  },
  {
   "cell_type": "code",
   "execution_count": 7,
   "metadata": {
    "collapsed": false
   },
   "outputs": [
    {
     "name": "stdout",
     "output_type": "stream",
     "text": [
      "C = 1e-05\n",
      "[ 0.69301062  0.69476367  0.69562224  0.69507489  0.69702951]\n",
      "Time elapsed: 0:00:02.639315\n",
      "C = 0.0001\n",
      "[ 0.70936502  0.71042199  0.71168956  0.71168269  0.71353648]\n",
      "Time elapsed: 0:00:04.120690\n",
      "C = 0.001\n",
      "[ 0.71434804  0.71581532  0.71629769  0.7168852   0.71853275]\n",
      "Time elapsed: 0:00:07.330185\n",
      "C = 0.01\n",
      "[ 0.71450425  0.71622052  0.71627998  0.71725088  0.71854131]\n",
      "Time elapsed: 0:00:09.359486\n",
      "C = 0.1\n",
      "[ 0.71448206  0.71620991  0.71622569  0.71726917  0.71848436]\n",
      "Time elapsed: 0:00:10.342058\n",
      "C = 1.0\n",
      "[ 0.71447768  0.71620628  0.7162209   0.71727019  0.71847678]\n",
      "Time elapsed: 0:00:10.437612\n",
      "C = 10.0\n",
      "[ 0.7144767   0.71620645  0.71621968  0.71727122  0.71847581]\n",
      "Time elapsed: 0:00:10.446153\n",
      "C = 100.0\n",
      "[ 0.71447671  0.71620624  0.71621963  0.71727119  0.71847568]\n",
      "Time elapsed: 0:00:10.441274\n",
      "C = 1000.0\n",
      "[ 0.71447667  0.71620624  0.71621966  0.71727119  0.71847569]\n",
      "Time elapsed: 0:00:10.451347\n",
      "C = 10000.0\n",
      "[ 0.71447667  0.71620627  0.71621961  0.71727117  0.71847569]\n",
      "Time elapsed: 0:00:10.456049\n",
      "C = 100000.0\n",
      "[ 0.71447667  0.71620627  0.71621961  0.71727117  0.71847569]\n",
      "Time elapsed: 0:00:10.359000\n"
     ]
    },
    {
     "data": {
      "image/png": "[encoded data removed]",
      "text/plain": [
       "<matplotlib.figure.Figure at 0x7febd4213f90>"
      ]
     },
     "metadata": {},
     "output_type": "display_data"
    }
   ],
   "source": [
    "C, score = test_model(X, y)"
   ]
  },
  {
   "cell_type": "code",
   "execution_count": 8,
   "metadata": {
    "collapsed": false
   },
   "outputs": [
    {
     "name": "stdout",
     "output_type": "stream",
     "text": [
      "0.01\n",
      "0.716559386445\n"
     ]
    }
   ],
   "source": [
    "print C\n",
    "print score"
   ]
  },
  {
   "cell_type": "markdown",
   "metadata": {},
   "source": [
    "Удаление категориальных признаков не повлияло на качество предсказания. Наилучшее значение показателя AUC-ROC так же достигается при C = 0.01 и равно 0.71. Получается, что в предыдущей модели эти признаки никак не влияли на результат предсказания, модель смогла распознать этот шум."
   ]
  },
  {
   "cell_type": "markdown",
   "metadata": {},
   "source": [
    "# \"Мешок слов\" для кодирования информации о героях."
   ]
  },
  {
   "cell_type": "code",
   "execution_count": 9,
   "metadata": {
    "collapsed": false
   },
   "outputs": [],
   "source": [
    "X, y, X_kaggle = helpers.get_clean_data('clean_category')\n",
    "X_hero, _y, X_kaggle_hero = helpers.get_clean_data('hero_bag')\n",
    "\n",
    "scaler = StandardScaler()\n",
    "X = pandas.DataFrame(scaler.fit_transform(X), index = X.index)\n",
    "X_kaggle = pandas.DataFrame(scaler.transform(X_kaggle), index = X_kaggle.index)\n",
    "\n",
    "X = pandas.concat([X, X_hero], axis=1)\n",
    "X_kaggle = pandas.concat([X_kaggle, X_kaggle_hero], axis=1)\n",
    "\n",
    "kf = KFold(y.size, n_folds=5, shuffle=True, random_state=42)"
   ]
  },
  {
   "cell_type": "code",
   "execution_count": 10,
   "metadata": {
    "collapsed": false
   },
   "outputs": [
    {
     "name": "stdout",
     "output_type": "stream",
     "text": [
      "C = 1e-05\n",
      "[ 0.69720207  0.69884021  0.69957687  0.69934071  0.70112123]\n",
      "Time elapsed: 0:00:03.872621\n",
      "C = 0.0001\n",
      "[ 0.72359118  0.72409681  0.72469066  0.72599494  0.72698389]\n",
      "Time elapsed: 0:00:05.452274\n",
      "C = 0.001\n",
      "[ 0.74465332  0.74667772  0.74413152  0.74880233  0.74740586]\n",
      "Time elapsed: 0:00:10.351973\n",
      "C = 0.01\n",
      "[ 0.74947405  0.75279102  0.7492512   0.75538896  0.7517834 ]\n",
      "Time elapsed: 0:00:16.795581\n",
      "C = 0.1\n",
      "[ 0.74943221  0.75315638  0.74950675  0.75598201  0.75166068]\n",
      "Time elapsed: 0:00:23.032549\n",
      "C = 1.0\n",
      "[ 0.74936266  0.75316833  0.7494975   0.75602057  0.75158709]\n",
      "Time elapsed: 0:00:24.337987\n",
      "C = 10.0\n",
      "[ 0.74935048  0.75317089  0.74949842  0.75602516  0.75157987]\n",
      "Time elapsed: 0:00:25.308090\n",
      "C = 100.0\n",
      "[ 0.74935007  0.75317051  0.74949888  0.75602563  0.75157887]\n",
      "Time elapsed: 0:00:23.196893\n",
      "C = 1000.0\n",
      "[ 0.74934978  0.75317078  0.74949881  0.75602526  0.75157883]\n",
      "Time elapsed: 0:00:23.431203\n",
      "C = 10000.0\n",
      "[ 0.74935059  0.75317032  0.74949887  0.75602545  0.75157899]\n",
      "Time elapsed: 0:00:23.415170\n",
      "C = 100000.0\n",
      "[ 0.74934981  0.75317056  0.74949883  0.75602529  0.75157867]\n",
      "Time elapsed: 0:00:23.357130\n"
     ]
    },
    {
     "data": {
      "image/png": "[encoded data removed]",
      "text/plain": [
       "<matplotlib.figure.Figure at 0x7febd54bcd90>"
      ]
     },
     "metadata": {},
     "output_type": "display_data"
    }
   ],
   "source": [
    "C, score = test_model(X, y)"
   ]
  },
  {
   "cell_type": "code",
   "execution_count": 11,
   "metadata": {
    "collapsed": false
   },
   "outputs": [
    {
     "name": "stdout",
     "output_type": "stream",
     "text": [
      "0.1\n",
      "0.75194760657\n"
     ]
    }
   ],
   "source": [
    "print C\n",
    "print score"
   ]
  },
  {
   "cell_type": "markdown",
   "metadata": {},
   "source": [
    "После добавления \"мешка слов\" по героям качество заметно улучшилось. Наилучшее значение показателя AUC-ROC  достигается при C = 0.1 и равно 0.75. Это объясняется тем, что вместо отсутствия данных о героях или случайного шума из id мы имеем осмысленную разреженную матрицу для построения предсказания."
   ]
  },
  {
   "cell_type": "markdown",
   "metadata": {},
   "source": [
    "# Отправляем решение на Kaggle в соревнование: Dota 2: Win Probability Prediction.\n",
    "\n",
    "Отправим самую лучшую на данный момент модель на соревнование, и посмотрим насколько верной оказалась оценка."
   ]
  },
  {
   "cell_type": "code",
   "execution_count": 12,
   "metadata": {
    "collapsed": false
   },
   "outputs": [],
   "source": [
    "model = LogisticRegression(C=0.1, random_state=42, n_jobs=-1)\n",
    "model.fit(X, y)\n",
    "helpers.kaggle_save('lg_hero_bag', model, X_kaggle)"
   ]
  },
  {
   "cell_type": "markdown",
   "metadata": {},
   "source": [
    "Полученная модель получила оценку **0.75529** и позволила занять **15** место по состоянию на *Tue, 23 Feb 2016 13:49:26*"
   ]
  }
 ],
 "metadata": {
  "kernelspec": {
   "display_name": "Python 2",
   "language": "python",
   "name": "python2"
  },
  "language_info": {
   "codemirror_mode": {
    "name": "ipython",
    "version": 2
   },
   "file_extension": ".py",
   "mimetype": "text/x-python",
   "name": "python",
   "nbconvert_exporter": "python",
   "pygments_lexer": "ipython2",
   "version": "2.7.6"
  }
 },
 "nbformat": 4,
 "nbformat_minor": 0
}
